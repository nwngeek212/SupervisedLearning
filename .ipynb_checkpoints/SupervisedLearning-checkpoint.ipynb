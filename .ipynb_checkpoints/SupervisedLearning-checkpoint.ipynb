{
 "cells": [
  {
   "cell_type": "markdown",
   "metadata": {
    "collapsed": true
   },
   "source": [
    "# Supervised Learning\n",
    "\n",
    "## K-Nearest Neighbor\n",
    "\n",
    "We will attempt to model a $k$-Nearest Neighbors model to predict departure delays at the O'Hare airport (ORD). We will use six features: `Month`, `DayofMonth`, `DayOfWeek`, `CRSDepTime`, `CRSArrTime`, and `Distance`."
   ]
  },
  {
   "cell_type": "code",
   "execution_count": 1,
   "metadata": {
    "collapsed": false
   },
   "outputs": [
    {
     "name": "stderr",
     "output_type": "stream",
     "text": [
      "/Library/Frameworks/Python.framework/Versions/3.5/lib/python3.5/site-packages/IPython/html.py:14: ShimWarning: The `IPython.html` package has been deprecated. You should import from `notebook` instead. `IPython.html.widgets` has moved to `ipywidgets`.\n",
      "  \"`IPython.html.widgets` has moved to `ipywidgets`.\", ShimWarning)\n"
     ]
    }
   ],
   "source": [
    "% matplotlib inline\n",
    "\n",
    "import matplotlib.pyplot as plt\n",
    "\n",
    "from sklearn.utils import check_random_state\n",
    "from sklearn.metrics import accuracy_score\n",
    "from helper import *\n",
    "from tqdm import tqdm\n",
    "\n",
    "sns.set(style=\"white\")"
   ]
  },
  {
   "cell_type": "markdown",
   "metadata": {},
   "source": [
    "We use the 2001 on-time airline performance data set. We import the following columns:\n",
    "\n",
    "- Column 1: Month, 1-12\n",
    "- Column 2: DayofMonth, 1-31\n",
    "- Column 3: DayOfWeek, 1 (Monday) - 7 (Sunday)\n",
    "- Column 5: CRSDepTime, scheduled departure time (local, hhmm)\n",
    "- Column 7: CRSArrTime, scheduled arrival time (local, hhmm)\n",
    "- Column 8: UniqueCarrier, unique carrier code\n",
    "- Column 15: DepDelay, departure delay, in minutes\n",
    "- Column 16: Origin, origin IATA airport code\n",
    "- Column 18: Distance, in miles"
   ]
  },
  {
   "cell_type": "code",
   "execution_count": 2,
   "metadata": {
    "collapsed": true
   },
   "outputs": [],
   "source": [
    "df = pd.read_csv(\n",
    "    '~/2001.csv',\n",
    "    encoding='latin-1',\n",
    "    usecols=(1, 2, 3, 5, 7, 8, 15, 16, 18)\n",
    "    )"
   ]
  },
  {
   "cell_type": "markdown",
   "metadata": {},
   "source": [
    "Let us narrow our dataset to *American Airlines* flights departing from ORD. We will mark any flight delayed 15 minutes or more as delayed, based upon the FAA guidelines. We will store this in a binary variable `Delayed`."
   ]
  },
  {
   "cell_type": "code",
   "execution_count": 3,
   "metadata": {
    "collapsed": true
   },
   "outputs": [],
   "source": [
    "# Select departure ORD, then remove the origin column\n",
    "local = df[(df['Origin'] == 'ORD') & (df['UniqueCarrier'] == 'AA')]\n",
    "local = local.drop(['Origin','UniqueCarrier'], axis=1)\n",
    "\n",
    "# Create a binary indicator of whether a flight was delayed, then remove the time delayed column\n",
    "local['Delayed'] = (local['DepDelay'] >= 15).astype(int)\n",
    "local = local.drop('DepDelay', axis=1).dropna()"
   ]
  },
  {
   "cell_type": "markdown",
   "metadata": {},
   "source": [
    "Let's print the first few rows."
   ]
  },
  {
   "cell_type": "code",
   "execution_count": 4,
   "metadata": {
    "collapsed": false
   },
   "outputs": [
    {
     "name": "stdout",
     "output_type": "stream",
     "text": [
      "        Month  DayofMonth  DayOfWeek  CRSDepTime  CRSArrTime  Distance  \\\n",
      "398444      1           1          1        1905        2159      1846   \n",
      "398445      1           2          2        1905        2159      1846   \n",
      "398446      1           3          3        1905        2159      1846   \n",
      "398447      1           4          4        1905        2159      1846   \n",
      "398448      1           5          5        1905        2159      1846   \n",
      "\n",
      "        Delayed  \n",
      "398444        1  \n",
      "398445        1  \n",
      "398446        1  \n",
      "398447        0  \n",
      "398448        1  \n"
     ]
    }
   ],
   "source": [
    "print(local.head(5))"
   ]
  },
  {
   "cell_type": "markdown",
   "metadata": {},
   "source": [
    "### Split\n",
    "\n",
    "For ease of use, we have defined a function `split()` which will run a `train_test_split()` on a **Pandas.DataFrame**, where we will define a `test_column`, other than which all columns will be used for training. `check_random_state(0)` will be passed in for reproducibility.\n",
    "\n",
    "Now we will split `local` into a training set (used for training our model), a validation set (used for determining hyperparameters, namely $k$ in this case), and a test set (used for evaluating our model's performance). We can use the `split` function twice with different `test_size` to split `local` into training:validation:test = 60:20:20."
   ]
  },
  {
   "cell_type": "code",
   "execution_count": 5,
   "metadata": {
    "collapsed": true
   },
   "outputs": [],
   "source": [
    "X_train_valid, X_test, y_train_valid, y_test = split(\n",
    "    df=local,\n",
    "    test_column=['Delayed'],\n",
    "    test_size=0.2,\n",
    "    random_state=check_random_state(0)\n",
    "    )"
   ]
  },
  {
   "cell_type": "markdown",
   "metadata": {},
   "source": [
    "Now let's split our `train_valid` sets into validation and training sets."
   ]
  },
  {
   "cell_type": "code",
   "execution_count": 6,
   "metadata": {
    "collapsed": true
   },
   "outputs": [],
   "source": [
    "X_train, X_valid, y_train, y_valid = split(\n",
    "    df=X_train_valid.join(y_train_valid),\n",
    "        test_column=['Delayed'],\n",
    "    test_size=0.25,\n",
    "    random_state=check_random_state(0)\n",
    "    )"
   ]
  },
  {
   "cell_type": "markdown",
   "metadata": {},
   "source": [
    "### Normalize"
   ]
  },
  {
   "cell_type": "code",
   "execution_count": 7,
   "metadata": {
    "collapsed": false
   },
   "outputs": [
    {
     "name": "stdout",
     "output_type": "stream",
     "text": [
      "Month           1\n",
      "DayofMonth      1\n",
      "DayOfWeek       1\n",
      "CRSDepTime    600\n",
      "CRSArrTime      1\n",
      "Distance      235\n",
      "Delayed         0\n",
      "dtype: int64\n",
      "\n",
      "\n",
      "Month           12\n",
      "DayofMonth      31\n",
      "DayOfWeek        7\n",
      "CRSDepTime    2215\n",
      "CRSArrTime    2359\n",
      "Distance      4243\n",
      "Delayed          1\n",
      "dtype: int64\n"
     ]
    }
   ],
   "source": [
    "print(local.min())\n",
    "print('\\n')\n",
    "print(local.max())"
   ]
  },
  {
   "cell_type": "markdown",
   "metadata": {},
   "source": [
    "Our six features have drastically different scales, so we will use a function `normalize()` to standardize them. One way to do this is to rescale the range of features to [0, 1]:\n",
    "\n",
    "$$x' = \\frac{x - \\text{min}(x)}{\\text{max}(x)-\\text{min}(x)}$$\n",
    "\n",
    "where $x$ is an original value, $x'$ is the normalized value.\n",
    "\n",
    "Let's take a look at our normalized training and validation sets."
   ]
  },
  {
   "cell_type": "code",
   "execution_count": 8,
   "metadata": {
    "collapsed": false
   },
   "outputs": [
    {
     "name": "stdout",
     "output_type": "stream",
     "text": [
      "Month         0\n",
      "DayofMonth    0\n",
      "DayOfWeek     0\n",
      "CRSDepTime    0\n",
      "CRSArrTime    0\n",
      "Distance      0\n",
      "dtype: float64\n",
      "\n",
      "\n",
      "Month         1\n",
      "DayofMonth    1\n",
      "DayOfWeek     1\n",
      "CRSDepTime    1\n",
      "CRSArrTime    1\n",
      "Distance      1\n",
      "dtype: float64\n"
     ]
    }
   ],
   "source": [
    "X_train_normal, X_valid_normal = map(normalize, [X_train, X_valid])\n",
    "print(X_train_normal.min())\n",
    "print('\\n')\n",
    "print(X_train_normal.max())"
   ]
  },
  {
   "cell_type": "markdown",
   "metadata": {},
   "source": [
    "### Train a KNN Model and Predict\n",
    "\n",
    "Now that we have standardized the training and validation sets, we are finally ready to apply the $k$-Nearest Neighbors algorithm. We will break it down into small steps.\n",
    "\n",
    "`train_knn()` fits a $k$-Nearest Neighbors on the training data and returns the trained model (an `sklearn.neighbors.KNeighborsClassifier` object).\n",
    "\n",
    "`predict_knn()` fits an `sklearn.neighbors.KNeighborsClassifier` model on `X` and returns a **pandas.DataFrame** of predicted values.\n",
    "\n",
    "Finally, `compute_accuracy()` finds the accuracy between two DataFrames of the same size.\n",
    "\n",
    "We will train 50 models from $k=1...51$ and evaluate on our validation set to determine the ideal value for $k$."
   ]
  },
  {
   "cell_type": "code",
   "execution_count": 9,
   "metadata": {
    "collapsed": false
   },
   "outputs": [
    {
     "name": "stderr",
     "output_type": "stream",
     "text": [
      "100%|██████████| 50/50 [00:50<00:00,  1.44s/it]\n"
     ]
    }
   ],
   "source": [
    "scores = np.ndarray([1,0],dtype=float) #Create empty ndarray\n",
    "    \n",
    "for k in tqdm(range(1,51)):\n",
    "    model = train_knn(X_train_normal,y_train,k)\n",
    "    y_pred = predict_knn(model, X_valid_normal)\n",
    "    scores = np.append(scores,accuracy_score(y_pred, y_valid))  #calculate the accuracy and append it to scores"
   ]
  },
  {
   "cell_type": "code",
   "execution_count": 10,
   "metadata": {
    "collapsed": false
   },
   "outputs": [
    {
     "name": "stdout",
     "output_type": "stream",
     "text": [
      "The best model: k = 17\n",
      "The accuracy score on the validation set is 83.6%.\n"
     ]
    }
   ],
   "source": [
    "k_best = np.argmax(scores) + 1 # because we started counting from k=1\n",
    "print('The best model: k = {}'.format(k_best))\n",
    "accuracy = scores[k_best-1]\n",
    "print(\"The accuracy score on the validation set is {:2.1f}%.\".format(accuracy * 100))"
   ]
  },
  {
   "cell_type": "markdown",
   "metadata": {},
   "source": [
    "Now that we have decided on our model, we can now use **both** the training set and the validation set for training, and then use the test set to evaulate the performance."
   ]
  },
  {
   "cell_type": "code",
   "execution_count": 11,
   "metadata": {
    "collapsed": false
   },
   "outputs": [
    {
     "name": "stdout",
     "output_type": "stream",
     "text": [
      "The accuracy of k-Nearest Neighbors is 83.4%.\n"
     ]
    }
   ],
   "source": [
    "X_train_valid_normal, X_test_normal = map(normalize, [X_train_valid, X_test])\n",
    "\n",
    "final_model = train_knn(X_train_valid_normal, y_train_valid, n_neighbors=k_best)\n",
    "y_pred = predict_knn(final_model, X_test_normal)\n",
    "\n",
    "accuracy = compute_accuracy(y_pred, y_test,'Delayed')\n",
    "print(\"The accuracy of k-Nearest Neighbors is {:2.1f}%.\".format(accuracy * 100))"
   ]
  },
  {
   "cell_type": "markdown",
   "metadata": {},
   "source": [
    "An accuracy of 84.1% appears good, but is largely meaningless in our case, as on time departures significantly outnumber delayed departures. If our model simply labeled every flight as on-time, we would still get a high accuracy. We should plot a confusion matrix to further examine the data"
   ]
  },
  {
   "cell_type": "code",
   "execution_count": 12,
   "metadata": {
    "collapsed": false
   },
   "outputs": [
    {
     "name": "stderr",
     "output_type": "stream",
     "text": [
      "/Library/Frameworks/Python.framework/Versions/3.5/lib/python3.5/site-packages/matplotlib/collections.py:590: FutureWarning: elementwise comparison failed; returning scalar instead, but in the future will perform elementwise comparison\n",
      "  if self._edgecolors == str('face'):\n"
     ]
    },
    {
     "data": {
      "text/plain": [
       "<matplotlib.axes._subplots.AxesSubplot at 0x103250898>"
      ]
     },
     "execution_count": 12,
     "metadata": {},
     "output_type": "execute_result"
    },
    {
     "data": {
      "image/png": "[encoded data removed]",
      "text/plain": [
       "<matplotlib.figure.Figure at 0x103278240>"
      ]
     },
     "metadata": {},
     "output_type": "display_data"
    }
   ],
   "source": [
    "plot_confusion(y_pred, y_test, 'KNN, k='+str(k_best))"
   ]
  },
  {
   "cell_type": "markdown",
   "metadata": {},
   "source": [
    "As noted above, we see that the high accuracy results mainly from correctly identifying on-time departures. We see however, that we misclassify many delayed flights as being on-time. To solve this problem, we can assign scores to each bin in the confusion matrix. We can use these scores as our metric rather than accuracy."
   ]
  },
  {
   "cell_type": "code",
   "execution_count": 13,
   "metadata": {
    "collapsed": false
   },
   "outputs": [
    {
     "name": "stderr",
     "output_type": "stream",
     "text": [
      "100%|██████████| 50/50 [00:50<00:00,  1.45s/it]\n"
     ]
    }
   ],
   "source": [
    "scores_adj = np.ndarray([1,0],dtype=float) #Create empty ndarray\n",
    "    \n",
    "for k in tqdm(range(1,51)):\n",
    "    model = train_knn(X_train_normal,y_train,k)\n",
    "    y_pred = predict_knn(model, X_valid_normal)\n",
    "    scores_adj = np.append(scores_adj,get_score(y_pred, y_valid, 'Delayed'))  #calculate the accuracy and append it to scores"
   ]
  },
  {
   "cell_type": "code",
   "execution_count": 14,
   "metadata": {
    "collapsed": false
   },
   "outputs": [],
   "source": [
    "k_adj = np.argmax(scores_adj)+1\n",
    "model_adj = train_knn(X_train_valid_normal, y_train_valid, n_neighbors=k_adj)\n",
    "y_adj = predict_knn(model_adj, X_test_normal)"
   ]
  },
  {
   "cell_type": "code",
   "execution_count": 15,
   "metadata": {
    "collapsed": false
   },
   "outputs": [
    {
     "name": "stdout",
     "output_type": "stream",
     "text": [
      "The adjusted accuracy is 76.7%.\n"
     ]
    }
   ],
   "source": [
    "print(\"The adjusted accuracy is {:2.1f}%.\".format(compute_accuracy(y_adj,y_test,'Delayed') * 100))"
   ]
  },
  {
   "cell_type": "code",
   "execution_count": 16,
   "metadata": {
    "collapsed": false
   },
   "outputs": [
    {
     "name": "stderr",
     "output_type": "stream",
     "text": [
      "/Library/Frameworks/Python.framework/Versions/3.5/lib/python3.5/site-packages/matplotlib/collections.py:590: FutureWarning: elementwise comparison failed; returning scalar instead, but in the future will perform elementwise comparison\n",
      "  if self._edgecolors == str('face'):\n"
     ]
    },
    {
     "data": {
      "text/plain": [
       "<matplotlib.axes._subplots.AxesSubplot at 0x10bae1a58>"
      ]
     },
     "execution_count": 16,
     "metadata": {},
     "output_type": "execute_result"
    },
    {
     "data": {
      "image/png": "[encoded data removed]",
      "text/plain": [
       "<matplotlib.figure.Figure at 0x10bae7630>"
      ]
     },
     "metadata": {},
     "output_type": "display_data"
    }
   ],
   "source": [
    "plot_confusion(y_adj, y_test, 'KNN, k='+str(k_adj))"
   ]
  },
  {
   "cell_type": "markdown",
   "metadata": {},
   "source": [
    "We correctly classify a larger portion of delayed flights, but see a large drop in both accuracy and classification of on-time departures. It does not appear that applying this method of scoring has been very helpful. In fact, it is more likely that we are lacking useful features that can be used to predict delays. Let's pull some weather data from NOAA and merge it with our current DataFrame to see if it improves our result."
   ]
  },
  {
   "cell_type": "code",
   "execution_count": 17,
   "metadata": {
    "collapsed": false
   },
   "outputs": [],
   "source": [
    "month = local['Month'].apply(str).apply(lambda x: x.zfill(2))\n",
    "day = local['DayofMonth'].apply(str).apply(lambda x: x.zfill(2))\n",
    "local1 = local.copy()\n",
    "local1['DATE']=('2001'+month+day).apply(int)\n",
    "local1 = local1.drop(['Month','DayofMonth','DayOfWeek'], axis=1)"
   ]
  },
  {
   "cell_type": "code",
   "execution_count": 18,
   "metadata": {
    "collapsed": false
   },
   "outputs": [
    {
     "name": "stdout",
     "output_type": "stream",
     "text": [
      "        CRSDepTime  CRSArrTime  Distance  Delayed      DATE\n",
      "398444        1905        2159      1846        1  20010101\n",
      "398445        1905        2159      1846        1  20010102\n",
      "398446        1905        2159      1846        1  20010103\n",
      "398447        1905        2159      1846        0  20010104\n",
      "398448        1905        2159      1846        1  20010105\n"
     ]
    }
   ],
   "source": [
    "print(local1.head())"
   ]
  },
  {
   "cell_type": "code",
   "execution_count": 19,
   "metadata": {
    "collapsed": true
   },
   "outputs": [],
   "source": [
    "weather = pd.read_csv(\n",
    "    '~/2001w.csv',\n",
    "    encoding='latin-1')"
   ]
  },
  {
   "cell_type": "code",
   "execution_count": 20,
   "metadata": {
    "collapsed": false
   },
   "outputs": [],
   "source": [
    "local_weather = pd.merge(local1,weather,on='DATE').dropna()"
   ]
  },
  {
   "cell_type": "code",
   "execution_count": 21,
   "metadata": {
    "collapsed": false
   },
   "outputs": [
    {
     "name": "stdout",
     "output_type": "stream",
     "text": [
      "   CRSDepTime  CRSArrTime  Distance  Delayed      DATE  PRCP  SNOW  AWND  TEMP\n",
      "0        1905        2159      1846        1  20010101     0     0  7.61  14.5\n",
      "1         900        1438      4243        0  20010101     0     0  7.61  14.5\n",
      "2        1455        1736      1846        0  20010101     0     0  7.61  14.5\n",
      "3        1905        2140      1745        0  20010101     0     0  7.61  14.5\n",
      "4        1650        2007       867        0  20010101     0     0  7.61  14.5\n"
     ]
    }
   ],
   "source": [
    "print(local_weather.head())"
   ]
  },
  {
   "cell_type": "markdown",
   "metadata": {},
   "source": [
    "Now that we have some weather information, let's see if our model performs any better."
   ]
  },
  {
   "cell_type": "code",
   "execution_count": 22,
   "metadata": {
    "collapsed": true
   },
   "outputs": [],
   "source": [
    "X_train_valid, X_test, y_train_valid, y_test = split(\n",
    "    df=local_weather,\n",
    "    test_column=['Delayed'],\n",
    "    test_size=0.2,\n",
    "    random_state=check_random_state(0)\n",
    "    )\n",
    "\n",
    "X_train, X_valid, y_train, y_valid = split(\n",
    "    df=X_train_valid.join(y_train_valid),\n",
    "    test_column=['Delayed'],\n",
    "    test_size=0.25,\n",
    "    random_state=check_random_state(0)\n",
    "    )\n",
    "\n",
    "X_train_normal, X_valid_normal = map(normalize, [X_train, X_valid])\n",
    "X_train_valid_normal, X_test_normal = map(normalize, [X_train_valid, X_test])"
   ]
  },
  {
   "cell_type": "code",
   "execution_count": 23,
   "metadata": {
    "collapsed": false
   },
   "outputs": [
    {
     "name": "stderr",
     "output_type": "stream",
     "text": [
      "100%|██████████| 50/50 [01:41<00:00,  2.91s/it]\n"
     ]
    }
   ],
   "source": [
    "scores = np.ndarray([1,0],dtype=float) #Create empty ndarray\n",
    "    \n",
    "for k in tqdm(range(1,51)):\n",
    "    model = train_knn(X_train_normal,y_train,k)\n",
    "    y_pred = predict_knn(model, X_valid_normal)\n",
    "    scores = np.append(scores,accuracy_score(y_pred, y_valid))  #calculate the accuracy and append it to scores"
   ]
  },
  {
   "cell_type": "code",
   "execution_count": 24,
   "metadata": {
    "collapsed": false
   },
   "outputs": [],
   "source": [
    "k_weather = np.argmax(scores)+1\n",
    "model_weather = train_knn(X_train_valid_normal, y_train_valid, n_neighbors=k_weather)\n",
    "y_pred = predict_knn(model_weather, X_test_normal)"
   ]
  },
  {
   "cell_type": "code",
   "execution_count": 25,
   "metadata": {
    "collapsed": false
   },
   "outputs": [
    {
     "name": "stderr",
     "output_type": "stream",
     "text": [
      "/Library/Frameworks/Python.framework/Versions/3.5/lib/python3.5/site-packages/matplotlib/collections.py:590: FutureWarning: elementwise comparison failed; returning scalar instead, but in the future will perform elementwise comparison\n",
      "  if self._edgecolors == str('face'):\n"
     ]
    },
    {
     "data": {
      "text/plain": [
       "<matplotlib.axes._subplots.AxesSubplot at 0x10f93acf8>"
      ]
     },
     "execution_count": 25,
     "metadata": {},
     "output_type": "execute_result"
    },
    {
     "data": {
      "image/png": "[encoded data removed]",
      "text/plain": [
       "<matplotlib.figure.Figure at 0x12259e898>"
      ]
     },
     "metadata": {},
     "output_type": "display_data"
    }
   ],
   "source": [
    "plot_confusion(y_pred, y_test, 'KNN, k='+str(k_weather))"
   ]
  },
  {
   "cell_type": "markdown",
   "metadata": {},
   "source": [
    "Surprisingly, we see a result quite similar to before, when we did not include any weather data. The model correctly classifies a greater percentage of on-time departures, but actually performs *worse* on delayed departures than before we included weather data. A potential reason for this could be the unbalanced nature of the data; we have *many* more on-time flights than delayed flights."
   ]
  },
  {
   "cell_type": "markdown",
   "metadata": {},
   "source": [
    "## Support Vector Machine\n",
    "\n",
    "We will attempt to model delays at ORD using the Support Vector Machine. Instead of using the 15 minute rule for delays by the FAA, to balance our data we will count all delays > 0. We will also limit our dataset to *American Airlines*. We will then merge it with the weather data"
   ]
  },
  {
   "cell_type": "code",
   "execution_count": 26,
   "metadata": {
    "collapsed": false
   },
   "outputs": [],
   "source": [
    "# Select ORD and AA, then remove origin and carrier columns\n",
    "local = df[(df['Origin'] == 'ORD') & (df['UniqueCarrier'] == 'AA')]\n",
    "local = local.drop(['UniqueCarrier', 'Origin'], axis=1) \n",
    "\n",
    "# Select flights delayed > 0, then drop the DepDelay column\n",
    "local['Delayed'] = (local['DepDelay'] > 0).astype(np.int)\n",
    "local = local.drop('DepDelay', axis=1).dropna()\n",
    "\n",
    "# Create a DATE column\n",
    "month = local['Month'].apply(str).apply(lambda x: x.zfill(2))\n",
    "day = local['DayofMonth'].apply(str).apply(lambda x: x.zfill(2))\n",
    "local['DATE']=('2001'+month+day).apply(int)\n",
    "local = local.drop(['Month','DayofMonth','DayOfWeek'], axis=1)\n",
    "\n",
    "# Merge with weather dataset\n",
    "local = pd.merge(local,weather,on='DATE').dropna()"
   ]
  },
  {
   "cell_type": "markdown",
   "metadata": {},
   "source": [
    "We can check if our data is now balanced:"
   ]
  },
  {
   "cell_type": "code",
   "execution_count": 27,
   "metadata": {
    "collapsed": false
   },
   "outputs": [
    {
     "name": "stdout",
     "output_type": "stream",
     "text": [
      "Delayed: 61932\n",
      "Not delayed: 44006\n"
     ]
    }
   ],
   "source": [
    "print('Delayed: {}\\nNot delayed: {}'.format(\n",
    "    (local.Delayed == 0).sum(),\n",
    "    (local.Delayed == 1).sum()\n",
    "    ))"
   ]
  },
  {
   "cell_type": "code",
   "execution_count": 28,
   "metadata": {
    "collapsed": false
   },
   "outputs": [
    {
     "name": "stdout",
     "output_type": "stream",
     "text": [
      "   CRSDepTime  CRSArrTime  Distance  Delayed      DATE  PRCP  SNOW  AWND  TEMP\n",
      "0        1905        2159      1846        1  20010101     0     0  7.61  14.5\n",
      "1         900        1438      4243        1  20010101     0     0  7.61  14.5\n",
      "2        1455        1736      1846        0  20010101     0     0  7.61  14.5\n",
      "3        1905        2140      1745        1  20010101     0     0  7.61  14.5\n",
      "4        1650        2007       867        1  20010101     0     0  7.61  14.5\n"
     ]
    }
   ],
   "source": [
    "print(local.head(5))"
   ]
  },
  {
   "cell_type": "code",
   "execution_count": 29,
   "metadata": {
    "collapsed": true
   },
   "outputs": [],
   "source": [
    "X_train, X_test, y_train, y_test = split(\n",
    "    df=local,\n",
    "    test_column=['Delayed'],\n",
    "    test_size=0.4,\n",
    "    random_state=check_random_state(0)\n",
    "    )"
   ]
  },
  {
   "cell_type": "markdown",
   "metadata": {},
   "source": [
    "Let's scale our features again, but this time we'll use a `[-1,1]` scale."
   ]
  },
  {
   "cell_type": "code",
   "execution_count": 30,
   "metadata": {
    "collapsed": true
   },
   "outputs": [],
   "source": [
    "X_train_scaled, X_test_scaled = map(standardize, [X_train, X_test])"
   ]
  },
  {
   "cell_type": "markdown",
   "metadata": {},
   "source": [
    "Now we're ready to actually fit a SVM and use it to make predictions."
   ]
  },
  {
   "cell_type": "code",
   "execution_count": 31,
   "metadata": {
    "collapsed": false
   },
   "outputs": [],
   "source": [
    "clf, y_pred = fit_and_predict(X_train_scaled, y_train, X_test_scaled, 'rbf')"
   ]
  },
  {
   "cell_type": "markdown",
   "metadata": {},
   "source": [
    "Let's check the accuracy:"
   ]
  },
  {
   "cell_type": "code",
   "execution_count": 32,
   "metadata": {
    "collapsed": false
   },
   "outputs": [
    {
     "name": "stdout",
     "output_type": "stream",
     "text": [
      "0.621743439683\n"
     ]
    }
   ],
   "source": [
    "print(accuracy_score(y_test, y_pred))"
   ]
  },
  {
   "cell_type": "code",
   "execution_count": 33,
   "metadata": {
    "collapsed": false
   },
   "outputs": [
    {
     "name": "stderr",
     "output_type": "stream",
     "text": [
      "/Library/Frameworks/Python.framework/Versions/3.5/lib/python3.5/site-packages/matplotlib/collections.py:590: FutureWarning: elementwise comparison failed; returning scalar instead, but in the future will perform elementwise comparison\n",
      "  if self._edgecolors == str('face'):\n"
     ]
    },
    {
     "data": {
      "text/plain": [
       "<matplotlib.axes._subplots.AxesSubplot at 0x10e5c9630>"
      ]
     },
     "execution_count": 33,
     "metadata": {},
     "output_type": "execute_result"
    },
    {
     "data": {
      "image/png": "[encoded data removed]",
      "text/plain": [
       "<matplotlib.figure.Figure at 0x110993860>"
      ]
     },
     "metadata": {},
     "output_type": "display_data"
    }
   ],
   "source": [
    "plot_confusion(y_pred, y_test, 'SVM')"
   ]
  },
  {
   "cell_type": "markdown",
   "metadata": {},
   "source": [
    "The poor performance of this model (and previous ones) is an indication that we are likely missing vital features that are needed to predict air traffic delays. For example, if we had access to private airline data, we could also add features related to mechanical issues with the planes, which would likely improve our model."
   ]
  },
  {
   "cell_type": "markdown",
   "metadata": {},
   "source": [
    "## Naive Bayes\n",
    "\n",
    "As a final look at supervised learning methods, let's try to implement a *Naive Bayes* classifier using only **Numpy**. *Naive Bayes* takes the naive assumption of Bayes' Theorem.\n",
    "\n",
    "Recall:\n",
    "\n",
    "$P(C|x) = \\frac{P(x|C)P(C)}{P(x)}$\n",
    "\n",
    "We predict $P(C|x)$, or the probability that the class takes a certain value, given the predictors, based upon frequencies and probabilities."
   ]
  },
  {
   "cell_type": "markdown",
   "metadata": {},
   "source": [
    "### Functions\n",
    "\n",
    "- `separate_by_class()`: takes two Numpy arrays, separates data by class value, and returns the result as a dictionary. The keys of the dictionary are class values, and the dictionary values are the rows in the array that correspond to each class value.\n",
    "- `summarize()`: provides the mean and standard deviation for each attribute in a given array of instances of a class value.\n",
    "- `summarize_by_class()`: calls `summarize()` and `separate_by_class()` to create summaries for each attribute by class.\n",
    "- `calculate_log_probability()`: calculates the **log** of a Gaussian Probability Density Function. The posterior probabilities, $P(C|x)$ are small, which may lead to floating point underflow. We will use $\\log(P(C|x))$ to avoid this underflow.\n",
    "- `calculate_class_log_probabilities()`: Sums the log probabilities by calling `calculate_log_probability()` for each\n",
    "- `predict()`: calculates the probability of a data instance belonging to each class value. We can look for the largest probability and return the associated class.\n",
    "\n",
    "We'll first split the data:"
   ]
  },
  {
   "cell_type": "code",
   "execution_count": 34,
   "metadata": {
    "collapsed": true
   },
   "outputs": [],
   "source": [
    "X_train, X_test, y_train, y_test = split(\n",
    "    df=local,\n",
    "    test_column=['Delayed'],\n",
    "    test_size=0.2,\n",
    "    random_state=check_random_state(0)\n",
    "    )\n",
    "\n",
    "X_train_scaled, X_test_scaled = map(normalize, [X_train, X_test])\n",
    "summaries = summarize_by_class(X_train_scaled.values,np.ravel(y_train.values))\n",
    "y_pred = predict(summaries,X_test_scaled)"
   ]
  },
  {
   "cell_type": "code",
   "execution_count": 35,
   "metadata": {
    "collapsed": false
   },
   "outputs": [
    {
     "name": "stdout",
     "output_type": "stream",
     "text": [
      "      CRSDepTime CRSArrTime Distance   DATE   PRCP   SNOW  AWND  TEMP\n",
      "5692        True       True     True  False  False  False  True  True\n",
      "85234       True       True     True   True  False  False  True  True\n",
      "23286       True       True     True   True  False  False  True  True\n",
      "34041       True       True     True   True  False  False  True  True\n",
      "92262       True       True     True   True  False  False  True  True\n"
     ]
    }
   ],
   "source": [
    "print(y_pred.head())"
   ]
  },
  {
   "cell_type": "markdown",
   "metadata": {},
   "source": [
    "Essentially, `True` signifies a delay, and `False` signifies an on-time departure for each data point. Let's average each row and see how the model performs against `y_test`."
   ]
  },
  {
   "cell_type": "code",
   "execution_count": 36,
   "metadata": {
    "collapsed": false
   },
   "outputs": [
    {
     "data": {
      "text/plain": [
       "0.42656220502171038"
      ]
     },
     "execution_count": 36,
     "metadata": {},
     "output_type": "execute_result"
    }
   ],
   "source": [
    "y1 = np.greater(y_pred.mean(axis=1),.5).astype(int)\n",
    "accuracy_score(y1,y_test)"
   ]
  },
  {
   "cell_type": "markdown",
   "metadata": {},
   "source": [
    "Random guessing would produce a higher accuracy. It is interesting to note however that `PRCP` and `SNOW` seem to have opposite trends  than the other predictors. If we use only those features, let's see if we get a better model."
   ]
  },
  {
   "cell_type": "code",
   "execution_count": 37,
   "metadata": {
    "collapsed": false
   },
   "outputs": [
    {
     "data": {
      "text/plain": [
       "0.59156126109118368"
      ]
     },
     "execution_count": 37,
     "metadata": {},
     "output_type": "execute_result"
    }
   ],
   "source": [
    "y2 = np.greater(y_pred[['PRCP','SNOW']].mean(axis=1),.5).astype(int)\n",
    "accuracy_score(y2,y_test)"
   ]
  },
  {
   "cell_type": "markdown",
   "metadata": {},
   "source": [
    "A much stronger result, but we should see the confusion matrix, as it is likely that we are marking the majority of flights as on-time."
   ]
  },
  {
   "cell_type": "code",
   "execution_count": 38,
   "metadata": {
    "collapsed": false
   },
   "outputs": [
    {
     "name": "stderr",
     "output_type": "stream",
     "text": [
      "/Library/Frameworks/Python.framework/Versions/3.5/lib/python3.5/site-packages/matplotlib/collections.py:590: FutureWarning: elementwise comparison failed; returning scalar instead, but in the future will perform elementwise comparison\n",
      "  if self._edgecolors == str('face'):\n"
     ]
    },
    {
     "data": {
      "text/plain": [
       "<matplotlib.axes._subplots.AxesSubplot at 0x10bf891d0>"
      ]
     },
     "execution_count": 38,
     "metadata": {},
     "output_type": "execute_result"
    },
    {
     "data": {
      "image/png": "[encoded data removed]",
      "text/plain": [
       "<matplotlib.figure.Figure at 0x10bfa1940>"
      ]
     },
     "metadata": {},
     "output_type": "display_data"
    }
   ],
   "source": [
    "plot_confusion(y2,y_test,'Naive Bayes using PRCP and SNOW')"
   ]
  },
  {
   "cell_type": "markdown",
   "metadata": {},
   "source": [
    "As expected, this model is just marking *almost all* flights as on time. Judging from the results of this (and past) models, it is certain that we need more feature information to accurately predict flight delays."
   ]
  }
 ],
 "metadata": {
  "kernelspec": {
   "display_name": "Python 3",
   "language": "python",
   "name": "python3"
  },
  "language_info": {
   "codemirror_mode": {
    "name": "ipython",
    "version": 3
   },
   "file_extension": ".py",
   "mimetype": "text/x-python",
   "name": "python",
   "nbconvert_exporter": "python",
   "pygments_lexer": "ipython3",
   "version": "3.5.1"
  }
 },
 "nbformat": 4,
 "nbformat_minor": 0
}
